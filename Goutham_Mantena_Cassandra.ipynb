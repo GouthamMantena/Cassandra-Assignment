{
  "nbformat": 4,
  "nbformat_minor": 0,
  "metadata": {
    "colab": {
      "provenance": []
    },
    "kernelspec": {
      "name": "python3",
      "display_name": "Python 3"
    },
    "language_info": {
      "name": "python"
    }
  },
  "cells": [
    {
      "cell_type": "code",
      "execution_count": null,
      "metadata": {
        "id": "gnBzGUVVl5m6"
      },
      "outputs": [],
      "source": [
        "from cassandra.cluster import Cluster\n",
        "from cassandra.auth import PlainTextAuthProvider\n",
        "import json"
      ]
    },
    {
      "cell_type": "code",
      "source": [
        "import json\n",
        "from cassandra.cluster import Cluster\n",
        "from cassandra.auth import PlainTextAuthProvider\n",
        "\n",
        "# Define the file paths for the secure connect bundle and token JSON file\n",
        "SECURE_CONNECT_BUNDLE = 'secure-connect-bd-db.zip'\n",
        "TOKEN_FILE = 'BD_DB-token.json'\n",
        "\n",
        "# Load secrets from the token JSON file\n",
        "with open(TOKEN_FILE, 'r') as token_file:\n",
        "    secrets = json.load(token_file)\n",
        "\n",
        "# Extract client credentials\n",
        "CLIENT_ID = secrets.get(\"clientId\")\n",
        "CLIENT_SECRET = secrets.get(\"secret\")\n",
        "\n",
        "# Configure authentication provider\n",
        "auth_provider = PlainTextAuthProvider(CLIENT_ID, CLIENT_SECRET)\n",
        "\n",
        "# Set up cloud configuration and create a cluster connection\n",
        "cloud_config = {'secure_connect_bundle': SECURE_CONNECT_BUNDLE}\n",
        "cluster = Cluster(cloud=cloud_config, auth_provider=auth_provider)\n",
        "\n",
        "# Connect to the session\n",
        "session = cluster.connect()\n",
        "\n",
        "# Check connection status\n",
        "if session:\n",
        "    print('Connected!')\n",
        "else:\n",
        "    print('An error occurred while connecting.')\n",
        "\n"
      ],
      "metadata": {
        "colab": {
          "base_uri": "https://localhost:8080/"
        },
        "id": "b3Vz8jbaomra",
        "outputId": "99290fd0-4d8e-4eed-c0c8-8d510253d48b"
      },
      "execution_count": null,
      "outputs": [
        {
          "output_type": "stream",
          "name": "stderr",
          "text": [
            "WARNING:cassandra.cluster:Downgrading core protocol version from 66 to 65 for fb60de75-88f5-42fa-bca9-7b2b3e1eb551-us-east1.db.astra.datastax.com:29042:00958fd0-af98-391f-9f51-7e3fe763da5c. To avoid this, it is best practice to explicitly set Cluster(protocol_version) to the version supported by your cluster. http://datastax.github.io/python-driver/api/cassandra/cluster.html#cassandra.cluster.Cluster.protocol_version\n",
            "WARNING:cassandra.cluster:Downgrading core protocol version from 65 to 5 for fb60de75-88f5-42fa-bca9-7b2b3e1eb551-us-east1.db.astra.datastax.com:29042:00958fd0-af98-391f-9f51-7e3fe763da5c. To avoid this, it is best practice to explicitly set Cluster(protocol_version) to the version supported by your cluster. http://datastax.github.io/python-driver/api/cassandra/cluster.html#cassandra.cluster.Cluster.protocol_version\n",
            "WARNING:cassandra.cluster:Downgrading core protocol version from 5 to 4 for fb60de75-88f5-42fa-bca9-7b2b3e1eb551-us-east1.db.astra.datastax.com:29042:00958fd0-af98-391f-9f51-7e3fe763da5c. To avoid this, it is best practice to explicitly set Cluster(protocol_version) to the version supported by your cluster. http://datastax.github.io/python-driver/api/cassandra/cluster.html#cassandra.cluster.Cluster.protocol_version\n"
          ]
        },
        {
          "output_type": "stream",
          "name": "stdout",
          "text": [
            "Connected!\n"
          ]
        }
      ]
    },
    {
      "cell_type": "code",
      "source": [
        "!pip install cassandra-driver"
      ],
      "metadata": {
        "colab": {
          "base_uri": "https://localhost:8080/"
        },
        "id": "UCh-NB_DoRVw",
        "outputId": "96aee483-7b60-4556-f2c3-8757e6f34b31"
      },
      "execution_count": null,
      "outputs": [
        {
          "output_type": "stream",
          "name": "stdout",
          "text": [
            "Collecting cassandra-driver\n",
            "  Downloading cassandra_driver-3.29.2-cp310-cp310-manylinux_2_17_x86_64.manylinux2014_x86_64.whl.metadata (6.2 kB)\n",
            "Collecting geomet<0.3,>=0.1 (from cassandra-driver)\n",
            "  Downloading geomet-0.2.1.post1-py3-none-any.whl.metadata (1.0 kB)\n",
            "Requirement already satisfied: click in /usr/local/lib/python3.10/dist-packages (from geomet<0.3,>=0.1->cassandra-driver) (8.1.7)\n",
            "Requirement already satisfied: six in /usr/local/lib/python3.10/dist-packages (from geomet<0.3,>=0.1->cassandra-driver) (1.16.0)\n",
            "Downloading cassandra_driver-3.29.2-cp310-cp310-manylinux_2_17_x86_64.manylinux2014_x86_64.whl (3.9 MB)\n",
            "\u001b[2K   \u001b[90m━━━━━━━━━━━━━━━━━━━━━━━━━━━━━━━━━━━━━━━━\u001b[0m \u001b[32m3.9/3.9 MB\u001b[0m \u001b[31m31.0 MB/s\u001b[0m eta \u001b[36m0:00:00\u001b[0m\n",
            "\u001b[?25hDownloading geomet-0.2.1.post1-py3-none-any.whl (18 kB)\n",
            "Installing collected packages: geomet, cassandra-driver\n",
            "Successfully installed cassandra-driver-3.29.2 geomet-0.2.1.post1\n"
          ]
        }
      ]
    },
    {
      "cell_type": "code",
      "source": [
        "import requests\n",
        "import pandas as pd\n",
        "\n",
        "# Define the URL for the CSV file and the local filename to save it\n",
        "CSV_URL = \"https://raw.githubusercontent.com/gchandra10/filestorage/main/sales_100.csv\"\n",
        "LOCAL_FILENAME = \"sales_100.csv\"\n",
        "\n",
        "try:\n",
        "    # Send an HTTP GET request to download the CSV file\n",
        "    response = requests.get(CSV_URL)\n",
        "    response.raise_for_status()  # Ensure the request was successful\n",
        "\n",
        "    # Write the downloaded data to a local file\n",
        "    with open(LOCAL_FILENAME, 'wb') as file:\n",
        "        file.write(response.content)\n",
        "\n",
        "    print(f\"File successfully downloaded and saved as '{LOCAL_FILENAME}'.\")\n",
        "\n",
        "    # Read the CSV file into a pandas DataFrame\n",
        "    sales_data = pd.read_csv(LOCAL_FILENAME)\n",
        "\n",
        "    # Display the first few rows of the DataFrame\n",
        "    print(\"Preview of the first 5 rows in the dataset:\")\n",
        "    print(sales_data.head())\n",
        "\n",
        "except requests.RequestException as e:\n",
        "    print(f\"Error occurred while downloading the file: {e}\")\n",
        "except pd.errors.EmptyDataError:\n",
        "    print(\"The downloaded CSV file is empty.\")\n",
        "except Exception as e:\n",
        "    print(f\"An unexpected error occurred: {e}\")\n",
        "\n"
      ],
      "metadata": {
        "colab": {
          "base_uri": "https://localhost:8080/"
        },
        "id": "dh8LpisipNFB",
        "outputId": "f6f78644-32f9-427d-e375-f3ccfe4e2a41"
      },
      "execution_count": null,
      "outputs": [
        {
          "output_type": "stream",
          "name": "stdout",
          "text": [
            "File successfully downloaded and saved as 'sales_100.csv'.\n",
            "Preview of the first 5 rows in the dataset:\n",
            "                         Region           Country  Item Type Sales Channel  \\\n",
            "0            Sub-Saharan Africa      South Africa     Fruits       Offline   \n",
            "1  Middle East and North Africa           Morocco    Clothes        Online   \n",
            "2         Australia and Oceania  Papua New Guinea       Meat       Offline   \n",
            "3            Sub-Saharan Africa          Djibouti    Clothes       Offline   \n",
            "4                        Europe          Slovakia  Beverages       Offline   \n",
            "\n",
            "  Order Priority  Order Date   Order ID   Ship Date  UnitsSold  UnitPrice  \\\n",
            "0              M   7/27/2012  443368995   7/28/2012       1593       9.33   \n",
            "1              M   9/14/2013  667593514  10/19/2013       4611     109.28   \n",
            "2              M   5/15/2015  940995585    6/4/2015        360     421.89   \n",
            "3              H   5/17/2017  880811536    7/2/2017        562     109.28   \n",
            "4              L  10/26/2016  174590194   12/4/2016       3973      47.45   \n",
            "\n",
            "   UnitCost  TotalRevenue  TotalCost  TotalProfit  \n",
            "0      6.92      14862.69   11023.56      3839.13  \n",
            "1     35.84     503890.08  165258.24    338631.84  \n",
            "2    364.69     151880.40  131288.40     20592.00  \n",
            "3     35.84      61415.36   20142.08     41273.28  \n",
            "4     31.79     188518.85  126301.67     62217.18  \n"
          ]
        }
      ]
    },
    {
      "cell_type": "code",
      "source": [
        "session.execute(\"\"\"\n",
        "CREATE TABLE IF NOT EXISTS cassandra.bronze_sales (\n",
        "    id UUID PRIMARY KEY,\n",
        "    transaction_id TEXT,\n",
        "    customer_id TEXT,\n",
        "    product_id TEXT,\n",
        "    amount DECIMAL,\n",
        "    transaction_date TEXT\n",
        ");\n",
        "\"\"\")\n"
      ],
      "metadata": {
        "colab": {
          "base_uri": "https://localhost:8080/"
        },
        "id": "OJim6-S3ph87",
        "outputId": "5ed59985-466a-4ab8-cb0e-ebe698a5f11c"
      },
      "execution_count": null,
      "outputs": [
        {
          "output_type": "execute_result",
          "data": {
            "text/plain": [
              "<cassandra.cluster.ResultSet at 0x7a9079462770>"
            ]
          },
          "metadata": {},
          "execution_count": 9
        }
      ]
    },
    {
      "cell_type": "code",
      "source": [
        "from uuid import uuid4"
      ],
      "metadata": {
        "id": "FhqhE9VIp2UA"
      },
      "execution_count": null,
      "outputs": []
    },
    {
      "cell_type": "code",
      "source": [
        "sales_data.columns = sales_data.columns.str.strip().str.replace(' ', '_')\n"
      ],
      "metadata": {
        "id": "LSDmbcosp5Ue"
      },
      "execution_count": 15,
      "outputs": []
    },
    {
      "cell_type": "code",
      "source": [
        "from datetime import datetime\n",
        "from uuid import uuid4\n",
        "\n",
        "# Loop through each row in the DataFrame\n",
        "for _, row in sales_data.iterrows(): # Changed 'dataframe' to 'sales_data'\n",
        "    try:\n",
        "        # Convert the 'Order_Date' column value to a datetime object and reformat it\n",
        "        formatted_date = datetime.strptime(row['Order_Date'], '%m/%d/%Y').strftime('%Y-%m-%d %H:%M:%S')\n",
        "    except ValueError:\n",
        "        # Handle invalid date formats by skipping the current row\n",
        "        print(f\"Encountered an invalid date format: {row['Order_Date']}\")\n",
        "        continue\n",
        "\n",
        "    # Insert data into the Cassandra table\n",
        "    session.execute(\"\"\"\n",
        "    INSERT INTO cassandra.bronze_sales (\n",
        "        id, transaction_id, customer_id, product_id, amount, transaction_date\n",
        "    ) VALUES (%s, %s, %s, %s, %s, %s)\n",
        "    \"\"\", (\n",
        "        uuid4(),                              # Generate a unique identifier for the primary key\n",
        "        str(row['Order_ID']),                 # Convert Order_ID to a string\n",
        "        str(row['Region']),                   # Convert Region to a string\n",
        "        str(row['Item_Type']),                # Convert Item_Type to a string\n",
        "        float(row['TotalRevenue']),           # Ensure TotalRevenue is stored as a float\n",
        "        formatted_date                        # Use the reformatted date string\n",
        "    ))\n",
        "\n"
      ],
      "metadata": {
        "id": "C_5NAswIqC07"
      },
      "execution_count": 17,
      "outputs": []
    },
    {
      "cell_type": "code",
      "source": [
        "from datetime import datetime\n",
        "\n",
        "# Create Silver Table\n",
        "session.execute(\"\"\"\n",
        "CREATE TABLE IF NOT EXISTS cassandra.silver_sales (\n",
        "    transaction_id text PRIMARY KEY,\n",
        "    customer_id text,\n",
        "    product_id text,\n",
        "    amount decimal,\n",
        "    transaction_date date\n",
        ")\n",
        "\"\"\")\n",
        "\n",
        "# Transform Data for Silver Table\n",
        "query = \"SELECT transaction_id, customer_id, product_id, amount, transaction_date FROM cassandra.bronze_sales\"\n",
        "rows = session.execute(query)\n",
        "\n",
        "# Insert data into silver_sales\n",
        "for row in rows:\n",
        "    # Convert 'transaction_date' to 'YYYY-MM-DD' format (only the date part)\n",
        "    try:\n",
        "        # If the date is in 'YYYY-MM-DD HH:MM:SS' format, extract only the date part\n",
        "        transaction_date = datetime.strptime(row.transaction_date, '%Y-%m-%d %H:%M:%S').date()\n",
        "    except ValueError:\n",
        "        # If the 'transaction_date' is already in 'YYYY-MM-DD' format, just parse it\n",
        "        transaction_date = datetime.strptime(row.transaction_date, '%Y-%m-%d').date()\n",
        "\n",
        "    # Insert the data into the silver_sales table\n",
        "    session.execute(\"\"\"\n",
        "    INSERT INTO cassandra.silver_sales (transaction_id, customer_id, product_id, amount, transaction_date)\n",
        "    VALUES (%s, %s, %s, %s, %s)\n",
        "    \"\"\", (\n",
        "        row.transaction_id,\n",
        "        row.customer_id,\n",
        "        row.product_id,\n",
        "        row.amount,\n",
        "        transaction_date\n",
        "    ))\n"
      ],
      "metadata": {
        "id": "6gP-GmLXqm49"
      },
      "execution_count": 18,
      "outputs": []
    },
    {
      "cell_type": "code",
      "source": [
        "from collections import defaultdict\n",
        "from decimal import Decimal"
      ],
      "metadata": {
        "id": "a9UYwp_4qzXf"
      },
      "execution_count": 19,
      "outputs": []
    },
    {
      "cell_type": "code",
      "source": [
        "from collections import defaultdict\n",
        "\n",
        "# Create Table 1: Total Sales by Customer\n",
        "session.execute(\"\"\"\n",
        "CREATE TABLE IF NOT EXISTS cassandra.gold_sales_by_customer (\n",
        "    customer_id TEXT PRIMARY KEY,\n",
        "    total_sales DECIMAL\n",
        ");\n",
        "\"\"\")\n",
        "\n",
        "# Retrieve data from the silver_sales table to calculate sales by customer\n",
        "query = \"SELECT customer_id, amount FROM cassandra.silver_sales\"\n",
        "rows = session.execute(query)\n",
        "\n",
        "# Use a defaultdict to sum up sales for each customer\n",
        "sales_by_customer = defaultdict(float)\n",
        "for row in rows:\n",
        "    sales_by_customer[row.customer_id] += float(row.amount)  # Ensure amount is a float\n",
        "\n",
        "# Insert aggregated data into gold_sales_by_customer\n",
        "for customer_id, total_sales in sales_by_customer.items():\n",
        "    session.execute(\"\"\"\n",
        "    INSERT INTO cassandra.gold_sales_by_customer (customer_id, total_sales)\n",
        "    VALUES (%s, %s);\n",
        "    \"\"\", (customer_id, total_sales))\n",
        "\n",
        "# Create Table 2: Total Sales by Product\n",
        "session.execute(\"\"\"\n",
        "CREATE TABLE IF NOT EXISTS cassandra.gold_sales_by_product (\n",
        "    product_id TEXT PRIMARY KEY,\n",
        "    total_sales DECIMAL\n",
        ");\n",
        "\"\"\")\n",
        "\n",
        "# Retrieve data from the silver_sales table to calculate sales by product\n",
        "query = \"SELECT product_id, amount FROM cassandra.silver_sales\"\n",
        "rows = session.execute(query)\n",
        "\n",
        "# Use a defaultdict to sum up sales for each product\n",
        "sales_by_product = defaultdict(float)\n",
        "for row in rows:\n",
        "    sales_by_product[row.product_id] += float(row.amount)  # Ensure amount is a float\n",
        "\n",
        "# Insert aggregated data into gold_sales_by_product\n",
        "for product_id, total_sales in sales_by_product.items():\n",
        "    session.execute(\"\"\"\n",
        "    INSERT INTO cassandra.gold_sales_by_product (product_id, total_sales)\n",
        "    VALUES (%s, %s);\n",
        "    \"\"\", (product_id, total_sales))\n",
        "\n",
        "# Create Table 3: Daily Sales Summary\n",
        "session.execute(\"\"\"\n",
        "CREATE TABLE IF NOT EXISTS cassandra.gold_daily_sales (\n",
        "    transaction_date DATE PRIMARY KEY,\n",
        "    total_sales DECIMAL\n",
        ");\n",
        "\"\"\")\n",
        "\n",
        "# Retrieve data from the silver_sales table to calculate daily sales\n",
        "query = \"SELECT transaction_date, amount FROM cassandra.silver_sales\"\n",
        "rows = session.execute(query)\n",
        "\n",
        "# Use a defaultdict to sum up sales by transaction_date\n",
        "sales_by_date = defaultdict(float)\n",
        "for row in rows:\n",
        "    sales_by_date[row.transaction_date] += float(row.amount)  # Ensure amount is a float\n",
        "\n",
        "# Insert aggregated data into gold_daily_sales\n",
        "for transaction_date, total_sales in sales_by_date.items():\n",
        "    session.execute(\"\"\"\n",
        "    INSERT INTO cassandra.gold_daily_sales (transaction_date, total_sales)\n",
        "    VALUES (%s, %s);\n",
        "    \"\"\", (transaction_date, total_sales))\n"
      ],
      "metadata": {
        "id": "1n4u8a9Mq4mI"
      },
      "execution_count": 21,
      "outputs": []
    },
    {
      "cell_type": "code",
      "source": [
        "# Golden Table 1: Total Sales by Customer\n",
        "result_customer = session.execute(\"SELECT * FROM cassandra.gold_sales_by_customer\")\n",
        "\n",
        "# Iterate through and print each row\n",
        "row_iterator = iter(result_customer)  # Create an iterator from the result\n",
        "while True:\n",
        "    try:\n",
        "        current_row = next(row_iterator)  # Retrieve the next row\n",
        "        print(current_row)  # Display the row\n",
        "    except StopIteration:\n",
        "        break  # Stop the loop when there are no more rows to process\n",
        "\n"
      ],
      "metadata": {
        "colab": {
          "base_uri": "https://localhost:8080/"
        },
        "id": "myRYLPE5rX5c",
        "outputId": "6dbb0e52-3ee3-436f-884a-edfeae4b1176"
      },
      "execution_count": 22,
      "outputs": [
        {
          "output_type": "stream",
          "name": "stdout",
          "text": [
            "Row(customer_id='Australia and Oceania', total_sales=Decimal('10711258.13'))\n",
            "Row(customer_id='Europe', total_sales=Decimal('34964749.830000006'))\n",
            "Row(customer_id='Middle East and North Africa', total_sales=Decimal('24765127.25'))\n",
            "Row(customer_id='Central America and the Caribbean', total_sales=Decimal('17570835.42'))\n",
            "Row(customer_id='Asia', total_sales=Decimal('28840812.190000005'))\n",
            "Row(customer_id='Sub-Saharan Africa', total_sales=Decimal('24225437.419999998'))\n",
            "Row(customer_id='North America', total_sales=Decimal('3611757.5199999996'))\n"
          ]
        }
      ]
    },
    {
      "cell_type": "code",
      "source": [
        "# Golden Table 2: Total Sales by Product\n",
        "result_product = session.execute(\"SELECT * FROM cassandra.gold_sales_by_product\")\n",
        "\n",
        "# Iterate through the result and display each row\n",
        "product_iterator = iter(result_product)  # Create an iterator from the query result\n",
        "while True:\n",
        "    try:\n",
        "        current_product = next(product_iterator)  # Fetch the next row\n",
        "        print(current_product)  # Output the row\n",
        "    except StopIteration:\n",
        "        break  # Exit the loop when all rows have been processed\n"
      ],
      "metadata": {
        "colab": {
          "base_uri": "https://localhost:8080/"
        },
        "id": "RbBhTR9Trc9F",
        "outputId": "db9ff9b3-149a-4179-e81e-33989f210e9e"
      },
      "execution_count": 23,
      "outputs": [
        {
          "output_type": "stream",
          "name": "stdout",
          "text": [
            "Row(product_id='Household', total_sales=Decimal('38519082.8'))\n",
            "Row(product_id='Office Supplies', total_sales=Decimal('27880904.94'))\n",
            "Row(product_id='Vegetables', total_sales=Decimal('1135114.08'))\n",
            "Row(product_id='Snacks', total_sales=Decimal('2193642.66'))\n",
            "Row(product_id='Personal Care', total_sales=Decimal('3191147.8499999996'))\n",
            "Row(product_id='Meat', total_sales=Decimal('21278865.93'))\n",
            "Row(product_id='Fruits', total_sales=Decimal('615033.6'))\n",
            "Row(product_id='Beverages', total_sales=Decimal('2145024.7'))\n",
            "Row(product_id='Cereal', total_sales=Decimal('9416123.2'))\n",
            "Row(product_id='Cosmetics', total_sales=Decimal('28727100.399999995'))\n",
            "Row(product_id='Baby Food', total_sales=Decimal('5200564.159999999'))\n",
            "Row(product_id='Clothes', total_sales=Decimal('4387373.4399999995'))\n"
          ]
        }
      ]
    },
    {
      "cell_type": "code",
      "source": [
        "# Golden Table 3: Daily Sales Summary\n",
        "result_daily_sales = session.execute(\"SELECT * FROM cassandra.gold_daily_sales\")\n",
        "\n",
        "# Loop through and display each row in the result\n",
        "daily_sales_iterator = iter(result_daily_sales)  # Create an iterator for the query result\n",
        "while True:\n",
        "    try:\n",
        "        current_row = next(daily_sales_iterator)  # Fetch the next row\n",
        "        print(current_row)  # Print the row\n",
        "    except StopIteration:\n",
        "        break  # End the loop when all rows have been processed\n"
      ],
      "metadata": {
        "colab": {
          "base_uri": "https://localhost:8080/"
        },
        "id": "OjY2MR6Trh9s",
        "outputId": "066a17aa-7014-44d3-f913-1ee7ff338750"
      },
      "execution_count": 24,
      "outputs": [
        {
          "output_type": "stream",
          "name": "stdout",
          "text": [
            "Row(transaction_date=Date(16267), total_sales=Decimal('5608790.11'))\n",
            "Row(transaction_date=Date(15042), total_sales=Decimal('167640.85'))\n",
            "Row(transaction_date=Date(15162), total_sales=Decimal('289426.4'))\n",
            "Row(transaction_date=Date(17303), total_sales=Decimal('61415.36'))\n",
            "Row(transaction_date=Date(16781), total_sales=Decimal('33410.73'))\n",
            "Row(transaction_date=Date(16769), total_sales=Decimal('643018.2'))\n",
            "Row(transaction_date=Date(14710), total_sales=Decimal('1932962.9'))\n",
            "Row(transaction_date=Date(15293), total_sales=Decimal('1456356.0'))\n",
            "Row(transaction_date=Date(15962), total_sales=Decimal('503890.08'))\n",
            "Row(transaction_date=Date(16151), total_sales=Decimal('4003440.4'))\n",
            "Row(transaction_date=Date(16110), total_sales=Decimal('74957.22'))\n",
            "Row(transaction_date=Date(15218), total_sales=Decimal('6666661.52'))\n",
            "Row(transaction_date=Date(15389), total_sales=Decimal('217368.45'))\n",
            "Row(transaction_date=Date(17135), total_sales=Decimal('70036.2'))\n",
            "Row(transaction_date=Date(17048), total_sales=Decimal('231345.76'))\n",
            "Row(transaction_date=Date(16240), total_sales=Decimal('36860.23'))\n",
            "Row(transaction_date=Date(14942), total_sales=Decimal('3470056.4'))\n",
            "Row(transaction_date=Date(16932), total_sales=Decimal('1411953.68'))\n",
            "Row(transaction_date=Date(15514), total_sales=Decimal('6253569.63'))\n",
            "Row(transaction_date=Date(15023), total_sales=Decimal('4227286.8'))\n",
            "Row(transaction_date=Date(15103), total_sales=Decimal('3263260.8'))\n",
            "Row(transaction_date=Date(15622), total_sales=Decimal('107533.88'))\n",
            "Row(transaction_date=Date(17116), total_sales=Decimal('738014.48'))\n",
            "Row(transaction_date=Date(16538), total_sales=Decimal('1027580.2'))\n",
            "Row(transaction_date=Date(16736), total_sales=Decimal('5206491.57'))\n",
            "Row(transaction_date=Date(15297), total_sales=Decimal('4707293.88'))\n",
            "Row(transaction_date=Date(16600), total_sales=Decimal('288752.09'))\n",
            "Row(transaction_date=Date(15624), total_sales=Decimal('274640.6'))\n",
            "Row(transaction_date=Date(16776), total_sales=Decimal('2570673.9'))\n",
            "Row(transaction_date=Date(14778), total_sales=Decimal('44224.2'))\n",
            "Row(transaction_date=Date(17124), total_sales=Decimal('92245.71'))\n",
            "Row(transaction_date=Date(15249), total_sales=Decimal('4100669.37'))\n",
            "Row(transaction_date=Date(15285), total_sales=Decimal('12866.07'))\n",
            "Row(transaction_date=Date(15138), total_sales=Decimal('979683.82'))\n",
            "Row(transaction_date=Date(15613), total_sales=Decimal('14508.15'))\n",
            "Row(transaction_date=Date(14840), total_sales=Decimal('2884921.59'))\n",
            "Row(transaction_date=Date(16241), total_sales=Decimal('1168581.7'))\n",
            "Row(transaction_date=Date(14884), total_sales=Decimal('628499.36'))\n",
            "Row(transaction_date=Date(16750), total_sales=Decimal('301612.8'))\n",
            "Row(transaction_date=Date(16012), total_sales=Decimal('53507.55'))\n",
            "Row(transaction_date=Date(16470), total_sales=Decimal('1856737.89'))\n",
            "Row(transaction_date=Date(17100), total_sales=Decimal('188518.85'))\n",
            "Row(transaction_date=Date(15522), total_sales=Decimal('1071140.0'))\n",
            "Row(transaction_date=Date(16821), total_sales=Decimal('348496.72'))\n",
            "Row(transaction_date=Date(15540), total_sales=Decimal('2014159.2'))\n",
            "Row(transaction_date=Date(17233), total_sales=Decimal('3699975.3'))\n",
            "Row(transaction_date=Date(15061), total_sales=Decimal('6266593.83'))\n",
            "Row(transaction_date=Date(15145), total_sales=Decimal('993573.76'))\n",
            "Row(transaction_date=Date(16122), total_sales=Decimal('4006267.44'))\n",
            "Row(transaction_date=Date(17022), total_sales=Decimal('130261.76'))\n",
            "Row(transaction_date=Date(15062), total_sales=Decimal('1896974.73'))\n",
            "Row(transaction_date=Date(15245), total_sales=Decimal('416332.21'))\n",
            "Row(transaction_date=Date(16686), total_sales=Decimal('2101183.2'))\n",
            "Row(transaction_date=Date(16669), total_sales=Decimal('1784241.8'))\n",
            "Row(transaction_date=Date(14703), total_sales=Decimal('652532.32'))\n",
            "Row(transaction_date=Date(16570), total_sales=Decimal('151880.4'))\n",
            "Row(transaction_date=Date(14960), total_sales=Decimal('2823440.75'))\n",
            "Row(transaction_date=Date(16363), total_sales=Decimal('89558.67'))\n",
            "Row(transaction_date=Date(15635), total_sales=Decimal('760579.38'))\n",
            "Row(transaction_date=Date(16950), total_sales=Decimal('136140.64'))\n",
            "Row(transaction_date=Date(16944), total_sales=Decimal('3396169.6'))\n",
            "Row(transaction_date=Date(15623), total_sales=Decimal('816150.42'))\n",
            "Row(transaction_date=Date(16556), total_sales=Decimal('453813.6'))\n",
            "Row(transaction_date=Date(15548), total_sales=Decimal('14862.69'))\n",
            "Row(transaction_date=Date(15588), total_sales=Decimal('56530.47'))\n",
            "Row(transaction_date=Date(16280), total_sales=Decimal('3672173.19'))\n",
            "Row(transaction_date=Date(15298), total_sales=Decimal('81161.67'))\n",
            "Row(transaction_date=Date(15280), total_sales=Decimal('419198.08'))\n",
            "Row(transaction_date=Date(15853), total_sales=Decimal('868465.4'))\n",
            "Row(transaction_date=Date(16861), total_sales=Decimal('2149107.66'))\n",
            "Row(transaction_date=Date(16815), total_sales=Decimal('5445063.96'))\n",
            "Row(transaction_date=Date(16067), total_sales=Decimal('4205821.41'))\n",
            "Row(transaction_date=Date(15732), total_sales=Decimal('34856.88'))\n",
            "Row(transaction_date=Date(17091), total_sales=Decimal('339860.8'))\n",
            "Row(transaction_date=Date(15596), total_sales=Decimal('117913.25'))\n",
            "Row(transaction_date=Date(16387), total_sales=Decimal('434357.3'))\n",
            "Row(transaction_date=Date(14993), total_sales=Decimal('746767.01'))\n",
            "Row(transaction_date=Date(14974), total_sales=Decimal('1336282.92'))\n",
            "Row(transaction_date=Date(17248), total_sales=Decimal('583484.16'))\n",
            "Row(transaction_date=Date(16876), total_sales=Decimal('3012716.49'))\n",
            "Row(transaction_date=Date(16841), total_sales=Decimal('3771157.11'))\n",
            "Row(transaction_date=Date(16837), total_sales=Decimal('126109.39'))\n",
            "Row(transaction_date=Date(16592), total_sales=Decimal('337990.72'))\n",
            "Row(transaction_date=Date(16988), total_sales=Decimal('802989.44'))\n",
            "Row(transaction_date=Date(15279), total_sales=Decimal('231050.71'))\n",
            "Row(transaction_date=Date(15661), total_sales=Decimal('603225.6'))\n",
            "Row(transaction_date=Date(15723), total_sales=Decimal('28327.65'))\n",
            "Row(transaction_date=Date(16541), total_sales=Decimal('1509220.9'))\n",
            "Row(transaction_date=Date(15503), total_sales=Decimal('298982.45'))\n",
            "Row(transaction_date=Date(15211), total_sales=Decimal('69946.72'))\n",
            "Row(transaction_date=Date(17286), total_sales=Decimal('2196359.34'))\n",
            "Row(transaction_date=Date(17140), total_sales=Decimal('3780403.39'))\n",
            "Row(transaction_date=Date(15620), total_sales=Decimal('1297172.4'))\n",
            "Row(transaction_date=Date(15956), total_sales=Decimal('429730.20999999996'))\n",
            "Row(transaction_date=Date(16494), total_sales=Decimal('2636753.2'))\n",
            "Row(transaction_date=Date(15733), total_sales=Decimal('1171204.08'))\n"
          ]
        }
      ]
    }
  ]
}